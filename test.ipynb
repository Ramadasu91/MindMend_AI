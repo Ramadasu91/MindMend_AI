{
 "cells": [
  {
   "cell_type": "code",
   "execution_count": 1,
   "metadata": {},
   "outputs": [
    {
     "name": "stdout",
     "output_type": "stream",
     "text": [
      "HI\n"
     ]
    }
   ],
   "source": [
    "print('HI')"
   ]
  },
  {
   "cell_type": "code",
   "execution_count": 2,
   "metadata": {},
   "outputs": [
    {
     "name": "stdout",
     "output_type": "stream",
     "text": [
      "Collecting pdfplumber\n",
      "  Using cached pdfplumber-0.11.4-py3-none-any.whl.metadata (41 kB)\n",
      "Collecting pdfminer.six==20231228 (from pdfplumber)\n",
      "  Using cached pdfminer.six-20231228-py3-none-any.whl.metadata (4.2 kB)\n",
      "Collecting Pillow>=9.1 (from pdfplumber)\n",
      "  Downloading pillow-10.4.0-cp310-cp310-win_amd64.whl.metadata (9.3 kB)\n",
      "Collecting pypdfium2>=4.18.0 (from pdfplumber)\n",
      "  Using cached pypdfium2-4.30.0-py3-none-win_amd64.whl.metadata (48 kB)\n",
      "Collecting charset-normalizer>=2.0.0 (from pdfminer.six==20231228->pdfplumber)\n",
      "  Downloading charset_normalizer-3.3.2-cp310-cp310-win_amd64.whl.metadata (34 kB)\n",
      "Collecting cryptography>=36.0.0 (from pdfminer.six==20231228->pdfplumber)\n",
      "  Using cached cryptography-43.0.1-cp39-abi3-win_amd64.whl.metadata (5.4 kB)\n",
      "Collecting cffi>=1.12 (from cryptography>=36.0.0->pdfminer.six==20231228->pdfplumber)\n",
      "  Downloading cffi-1.17.1-cp310-cp310-win_amd64.whl.metadata (1.6 kB)\n",
      "Collecting pycparser (from cffi>=1.12->cryptography>=36.0.0->pdfminer.six==20231228->pdfplumber)\n",
      "  Using cached pycparser-2.22-py3-none-any.whl.metadata (943 bytes)\n",
      "Using cached pdfplumber-0.11.4-py3-none-any.whl (59 kB)\n",
      "Using cached pdfminer.six-20231228-py3-none-any.whl (5.6 MB)\n",
      "Downloading pillow-10.4.0-cp310-cp310-win_amd64.whl (2.6 MB)\n",
      "   ---------------------------------------- 0.0/2.6 MB ? eta -:--:--\n",
      "   ------ --------------------------------- 0.4/2.6 MB 12.9 MB/s eta 0:00:01\n",
      "   ------------ --------------------------- 0.8/2.6 MB 9.7 MB/s eta 0:00:01\n",
      "   ---------------- ----------------------- 1.1/2.6 MB 8.4 MB/s eta 0:00:01\n",
      "   ---------------------- ----------------- 1.4/2.6 MB 8.3 MB/s eta 0:00:01\n",
      "   ---------------------------- ----------- 1.8/2.6 MB 8.2 MB/s eta 0:00:01\n",
      "   --------------------------------- ------ 2.1/2.6 MB 8.0 MB/s eta 0:00:01\n",
      "   -------------------------------------- - 2.5/2.6 MB 8.3 MB/s eta 0:00:01\n",
      "   ---------------------------------------- 2.6/2.6 MB 7.8 MB/s eta 0:00:00\n",
      "Using cached pypdfium2-4.30.0-py3-none-win_amd64.whl (2.9 MB)\n",
      "Downloading charset_normalizer-3.3.2-cp310-cp310-win_amd64.whl (100 kB)\n",
      "   ---------------------------------------- 0.0/100.3 kB ? eta -:--:--\n",
      "   ---------------------------------------- 100.3/100.3 kB ? eta 0:00:00\n",
      "Using cached cryptography-43.0.1-cp39-abi3-win_amd64.whl (3.1 MB)\n",
      "Downloading cffi-1.17.1-cp310-cp310-win_amd64.whl (181 kB)\n",
      "   ---------------------------------------- 0.0/181.3 kB ? eta -:--:--\n",
      "   --------------------------------------- 181.3/181.3 kB 10.7 MB/s eta 0:00:00\n",
      "Using cached pycparser-2.22-py3-none-any.whl (117 kB)\n",
      "Installing collected packages: pypdfium2, pycparser, Pillow, charset-normalizer, cffi, cryptography, pdfminer.six, pdfplumber\n",
      "Successfully installed Pillow-10.4.0 cffi-1.17.1 charset-normalizer-3.3.2 cryptography-43.0.1 pdfminer.six-20231228 pdfplumber-0.11.4 pycparser-2.22 pypdfium2-4.30.0\n",
      "Note: you may need to restart the kernel to use updated packages.\n"
     ]
    },
    {
     "name": "stderr",
     "output_type": "stream",
     "text": [
      "  WARNING: The script pypdfium2.exe is installed in 'c:\\Users\\Ramtej\\Desktop\\jupyter_notebook\\GeminiProLLM\\venv\\Scripts' which is not on PATH.\n",
      "  Consider adding this directory to PATH or, if you prefer to suppress this warning, use --no-warn-script-location.\n",
      "  WARNING: The script normalizer.exe is installed in 'c:\\Users\\Ramtej\\Desktop\\jupyter_notebook\\GeminiProLLM\\venv\\Scripts' which is not on PATH.\n",
      "  Consider adding this directory to PATH or, if you prefer to suppress this warning, use --no-warn-script-location.\n",
      "  WARNING: The script pdfplumber.exe is installed in 'c:\\Users\\Ramtej\\Desktop\\jupyter_notebook\\GeminiProLLM\\venv\\Scripts' which is not on PATH.\n",
      "  Consider adding this directory to PATH or, if you prefer to suppress this warning, use --no-warn-script-location.\n"
     ]
    }
   ],
   "source": [
    "pip install pdfplumber\n"
   ]
  },
  {
   "cell_type": "code",
   "execution_count": 1,
   "metadata": {},
   "outputs": [],
   "source": [
    "import pdfplumber"
   ]
  },
  {
   "cell_type": "code",
   "execution_count": null,
   "metadata": {},
   "outputs": [],
   "source": [
    "\n",
    "\n",
    "\n",
    "# 2. Initialize Google Generative AI embeddings\n",
    "embeddings = GoogleGenerativeAIEmbeddings(model=\"models/embedding-001\")\n",
    "\n",
    "# 3. Define function to extract and chunk PDF content\n",
    "def extract_and_chunk_pdfs(pdf_files):\n",
    "    text_splitter = RecursiveCharacterTextSplitter(chunk_size=500, chunk_overlap=50)\n",
    "    all_chunks = []\n",
    "    for pdf in pdf_files:\n",
    "        try:\n",
    "            text = \"\"\n",
    "            with pdfplumber.open(pdf) as pdf_reader:\n",
    "                for page in pdf_reader.pages:\n",
    "                    text += page.extract_text()  # Extract text from each page\n",
    "            chunks = text_splitter.split_text(text)\n",
    "            all_chunks.extend(chunks)\n",
    "        except Exception as e:\n",
    "            print(f\"Error processing {pdf}: {e}\")\n",
    "    return all_chunks\n",
    "\n",
    "# 4. Preprocess and index PDF chunks into Pinecone, and calculate total length of embeddings\n",
    "def index_pdf_content(pdf_files):\n",
    "    pdf_text_chunks = extract_and_chunk_pdfs(pdf_files)\n",
    "    total_embedding_length = 0  # Initialize variable to hold total length of all embeddings\n",
    "    \n",
    "    for i, chunk in enumerate(pdf_text_chunks):\n",
    "        try:\n",
    "            vector = embeddings.embed_query(chunk)\n",
    "            total_embedding_length += len(vector)  # Accumulate length of each embedding vector\n",
    "            index.upsert([(\"doc-id\", vector)])  # Use a unique ID for each chunk\n",
    "        except Exception as e:\n",
    "            print(f\"Error indexing chunk {i+1}: {e}\")\n",
    "    \n",
    "    # Print the total combined length of embeddings for all PDF files\n",
    "    print(f\"Total combined length of all embeddings: {total_embedding_length}\")\n",
    "\n",
    "# 5. Preload your PDF files (ensure files are placed in a directory for processing)\n",
    "pdf_files = [\"document1.pdf\", \"document2.pdf\", \"document3.pdf\"]  # List your PDF files here\n",
    "index_pdf_content(pdf_files)\n"
   ]
  }
 ],
 "metadata": {
  "kernelspec": {
   "display_name": "Python 3",
   "language": "python",
   "name": "python3"
  },
  "language_info": {
   "codemirror_mode": {
    "name": "ipython",
    "version": 3
   },
   "file_extension": ".py",
   "mimetype": "text/x-python",
   "name": "python",
   "nbconvert_exporter": "python",
   "pygments_lexer": "ipython3",
   "version": "3.10.0"
  }
 },
 "nbformat": 4,
 "nbformat_minor": 2
}
